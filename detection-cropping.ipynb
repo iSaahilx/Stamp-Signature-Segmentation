{
 "cells": [
  {
   "cell_type": "code",
   "execution_count": null,
   "metadata": {
    "vscode": {
     "languageId": "plaintext"
    }
   },
   "outputs": [],
   "source": [
    "import os\n",
    "for dirname, _, filenames in os.walk('/kaggle/input'):\n",
    "    for filename in filenames:\n",
    "        print(os.path.join(dirname, filename))"
   ]
  },
  {
   "cell_type": "code",
   "execution_count": null,
   "metadata": {
    "vscode": {
     "languageId": "plaintext"
    }
   },
   "outputs": [],
   "source": [
    "%pip install \"ultralytics<=8.3.40\"\n",
    "import ultralytics\n",
    "ultralytics.checks()"
   ]
  },
  {
   "cell_type": "code",
   "execution_count": null,
   "metadata": {
    "vscode": {
     "languageId": "plaintext"
    }
   },
   "outputs": [],
   "source": [
    "from ultralytics import YOLO\n",
    "import cv2\n",
    "from IPython.display import Image as IPyImage\n",
    "# Load the model\n",
    "model_path = \"/kaggle/input/yolov8s-docs/pytorch/text-documents/1/best.pt\"\n",
    "model = YOLO(model_path)\n",
    "\n",
    "# Perform inference on an image\n",
    "image_path = \"/kaggle/input/signatures-and-stamps/1/MIn-oboronyi-RF-11-1-745x1024.jpg\"  \n",
    "results = model.predict(image_path)\n",
    "\n",
    "# Display the results\n",
    "for result in results:\n",
    "    IPyImage(result,width=600)\n",
    "    # Also, save the results to a file\n",
    "    result.save(filename=\"output_image.jpg\")  # Saves the output image with predictions\n",
    "\n",
    "    # Print bounding box details\n",
    "    for box in result.boxes:\n",
    "        print(f\"Class: {model.names[int(box.cls)]}, Confidence: {box.conf.item()}, Bounding Box: {box.xyxy}\")"
   ]
  },
  {
   "cell_type": "code",
   "execution_count": null,
   "metadata": {
    "vscode": {
     "languageId": "plaintext"
    }
   },
   "outputs": [],
   "source": [
    "IPyImage(filename=\"output_image.jpg\",width=600)"
   ]
  },
  {
   "cell_type": "code",
   "execution_count": null,
   "metadata": {
    "vscode": {
     "languageId": "plaintext"
    }
   },
   "outputs": [],
   "source": [
    "import os\n",
    "import cv2\n",
    "from ultralytics import YOLO\n",
    "\n",
    "# Load the trained model\n",
    "model_path = \"/kaggle/input/yolov8s-docs/pytorch/text-documents/1/best.pt\"\n",
    "model = YOLO(model_path)\n",
    "\n",
    "# Define valid classes (only process signatures & stamps)\n",
    "VALID_CLASSES = {0: \"signature\", 1: \"stamp\"}\n",
    "\n",
    "# Input dataset directory\n",
    "input_dir = \"/kaggle/input/signatures-and-stamps/1\"\n",
    "\n",
    "# Output directory for cropped images\n",
    "output_dir = \"/kaggle/working/cropped_images\"\n",
    "os.makedirs(output_dir, exist_ok=True)\n",
    "\n",
    "# Collect all image files from dataset\n",
    "image_paths = []\n",
    "for root, _, files in os.walk(input_dir):\n",
    "    for file in files:\n",
    "        if file.lower().endswith((\".jpg\", \".jpeg\", \".png\")):  # Only process image files\n",
    "            image_paths.append(os.path.join(root, file))\n",
    "\n",
    "print(f\"Found {len(image_paths)} images in dataset. Processing...\")\n",
    "\n",
    "# Process each image in the dataset\n",
    "for i, image_path in enumerate(image_paths):\n",
    "    image = cv2.imread(image_path)\n",
    "    if image is None:\n",
    "        print(f\"Error loading {image_path}, skipping...\")\n",
    "        continue\n",
    "\n",
    "    # Perform inference\n",
    "    results = model.predict(image_path)\n",
    "\n",
    "    # Process detected objects\n",
    "    for j, result in enumerate(results):\n",
    "        for box in result.boxes:\n",
    "            class_id = int(box.cls)\n",
    "\n",
    "            # Skip text & tables (Only keep stamps & signatures)\n",
    "            if class_id not in VALID_CLASSES:\n",
    "                continue\n",
    "\n",
    "            # Get bounding box coordinates\n",
    "            x_min, y_min, x_max, y_max = map(int, box.xyxy[0])\n",
    "\n",
    "            # Crop the detected region\n",
    "            cropped_img = image[y_min:y_max, x_min:x_max]\n",
    "\n",
    "            # Save cropped image\n",
    "            output_filename = f\"{VALID_CLASSES[class_id]}_{i+1}_{j+1}.jpg\"\n",
    "            output_path = os.path.join(output_dir, output_filename)\n",
    "            cv2.imwrite(output_path, cropped_img)\n",
    "\n",
    "            print(f\"Saved: {output_filename}\")\n",
    "\n",
    "print(\"✅ Cropping completed! Cropped images saved in:\", output_dir)\n"
   ]
  },
  {
   "cell_type": "code",
   "execution_count": null,
   "metadata": {
    "vscode": {
     "languageId": "plaintext"
    }
   },
   "outputs": [],
   "source": [
    "!zip -r cropped_signatures_stamps.zip /kaggle/working/cropped_images\n"
   ]
  },
  {
   "cell_type": "code",
   "execution_count": null,
   "metadata": {
    "vscode": {
     "languageId": "plaintext"
    }
   },
   "outputs": [],
   "source": []
  }
 ],
 "metadata": {
  "language_info": {
   "name": "python"
  }
 },
 "nbformat": 4,
 "nbformat_minor": 2
}
